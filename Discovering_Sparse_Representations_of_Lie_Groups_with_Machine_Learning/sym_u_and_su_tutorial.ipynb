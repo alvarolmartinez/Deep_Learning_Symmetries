{
 "cells": [
  {
   "cell_type": "markdown",
   "metadata": {},
   "source": [
    "[![Open in Colab](https://colab.research.google.com/assets/colab-badge.svg)](https://colab.research.google.com/github/royforestano/Deep_Learning_Symmetries/blob/main/Discovering_Sparse_Representations_of_Lie_Groups_with_Machine_Learning/sym_u_and_su_tutorial.ipynb)"
   ]
  },
  {
   "cell_type": "markdown",
   "metadata": {},
   "source": [
    "# Discovering Sparse Representations of Lie Groups with Machine Learning - Tutorial"
   ]
  },
  {
   "cell_type": "markdown",
   "metadata": {},
   "source": [
    "Author: Roy Forestano\n",
    "\n",
    "Date of Completion: 18 February 2023\n",
    "\n",
    "Connected to the paper on: Discovering Sparse Representations of Lie Groups with Machine Learning (arXiv:2302.05383: https://arxiv.org/abs/2302.05383)\n",
    "\n",
    "Given a dataset with dimension $N$, a neural network can be utilized to modify a random state of generators and structure constants to reproduce the proper entries corresponding to a given group, e.g. SO(N). The model takes in an array of the desired number of generators $N_{g}$ as $N \\times N$ matrices and an array of the structure constants with shape $N_{brackets} \\times N_{g}$. The model begins by looping over the generators applying a sequential layer to each. The second part loops over the rows of the structure constant array applying a sequential layer to each, which is a generalized modification to the code for a paper on deep learning symmetries [(Forestano et al.)](https://arxiv.org/abs/2301.05638). The model modifies these arrays to produce the desired generators and structure constants with an interconnected loss function, which now minimizes the dispersion between entries. This allows for a more simple visual verification of a group structure and its algebra by enforcing the resulting elements to be in a sparse representation, which may or may not be the canonical form."
   ]
  },
  {
   "cell_type": "markdown",
   "metadata": {},
   "source": [
    "## Useful Resources"
   ]
  },
  {
   "cell_type": "markdown",
   "metadata": {},
   "source": [
    "1. The Quaternions and the Spaces S3, SU(2), SO(3), RP3: https://www.cis.upenn.edu/~cis5150/gma-v2-chap9.pdf\n",
    "2. Charts on SO(3): https://en.wikipedia.org/wiki/Charts_on_SO(3)\n",
    "3. Lie Groups as Manifolds SU(2) and Three sphere: http://mf23.web.rice.edu/LA_2_v1.4%20Lie%20groups%20as%20manifolds;%20su(2)%20and%20S3.pdf\n",
    "4. Discrete Group: https://en.wikipedia.org/wiki/Discrete_group\n",
    "5. Torch Complex: https://pytorch.org/docs/stable/complex_numbers.html\n",
    "6. Data types: https://numpy.org/doc/stable/user/basics.types.html\n",
    "7. Special Unitary Group: https://en.wikipedia.org/wiki/Special_unitary_group\n",
    "8. Pauli Matrices and SU(2): https://en.wikipedia.org/wiki/Pauli_matrices\n",
    "9. Gell-Mann Matrices and SU(3): https://en.wikipedia.org/wiki/Gell-Mann_matrices\n",
    "10. Custom Activation for Complex Numbers: https://github.com/pytorch/pytorch/issues/47052\n",
    "11. Complex Activation (Holomorphic Functions, e.g. Sigmoid): https://discuss.pytorch.org/t/complex-valued-neural-network/117090\n",
    "12. Holomorphic Functions: https://en.wikipedia.org/wiki/Holomorphic_function\n",
    "13. Special Unitary Groups: https://en.wikipedia.org/wiki/Special_unitary_group\n",
    "14. ComplexPyTorch: https://github.com/wavefrontshaping/complexPyTorch\n",
    "15. Sigmoid Activation Function: https://en.wikipedia.org/wiki/Sigmoid_function"
   ]
  },
  {
   "cell_type": "markdown",
   "metadata": {},
   "source": [
    "## Loss Function Description"
   ]
  },
  {
   "cell_type": "markdown",
   "metadata": {},
   "source": [
    "There are three components to the loss function. Note $|G| = n_{gen}$.\n",
    "\n",
    "1. ${\\bf Invariance }$\n",
    " $$\\mathcal{L}_{inv} = \\frac{a_{inv}}{ \\epsilon^2} \\sum_{j=1}^{n_{gen}} \\left\\{ \\sum_{i=1}^{N} \\left[ \\phi \\left[ (I+\\epsilon W_j) \\vec{x}_i \\right] - \\phi\\left(\\vec{x}_i \\right) \\right]^2 \\right\\}$$\n",
    "where we will use $\\phi \\equiv torch.norm$ here ($L^2$ norm which includes imaginary numbers), i.e.,\n",
    "$$ \\phi(\\vec{x}) = \\sqrt{\\sum_{i=1}^{n_{dim}} |x_i|^2}$$\n",
    "\n",
    "\n",
    "2. ${\\bf Normalization}$\n",
    " $$\\mathcal{L}_{norm} = a_{norm}  \\sum_{i=1}^{n_{gen}} \\left[\\text{Tr}(W_i W_i^\\dagger) - 2\\right]^2$$\n",
    " Note that  $\\text{Tr}(W_i W_i^T)$ is equivalent to squaring all the elements of an array, or performing numpy multiplication of arrays in python.\n",
    " \n",
    "3. ${\\bf Orthogonality}$\n",
    " $$\\mathcal{L}_{orth} = a_{orth} \\sum_{i, j = 1, i<j}^{n_{gen}} \\left| \\text{Tr}(W_i W_j) \\right|^2$$ \n",
    "\n",
    "4. ${ \\bf Closure}$\n",
    " $$\\mathcal{L}_{clos} = a_{clos}  \\sum_{i, j = 1, i<j}^{n_{gen}} \\text{Tr}(C_{[ij]} C_{[ij]}^T)^2$$\n",
    " where\n",
    " $$C_{[ij]} = [W_i, W_j] - \\sum_{k=1}^{n_{gen}} a_{[ij]k} W_k$$\n",
    " \n",
    "5. ${ \\bf Sparsity}$\n",
    " $$\\mathcal{L}_{sp} = a_{sp}   \\sum_{i=0}^{n_{gen}} \\sum_{l,m,n,p=0,\\\\ l \\neq n, m \\neq p}^{n_{dim}}  \\left[ W_i^{lm} W_i^{np} \\right]^2$$\n",
    " \n",
    "and therefore, our loss becomes \n",
    "$$\\mathcal{L} = \\mathcal{L}_{inv} + \\mathcal{L}_{norm} + \\mathcal{L}_{orth} + \\mathcal{L}_{clos} + \\mathcal{L}_{sp}$$"
   ]
  },
  {
   "cell_type": "code",
   "execution_count": 31,
   "metadata": {},
   "outputs": [],
   "source": [
    "#!pip install torch"
   ]
  },
  {
   "cell_type": "markdown",
   "metadata": {},
   "source": [
    "## Imports"
   ]
  },
  {
   "cell_type": "code",
   "execution_count": 32,
   "metadata": {},
   "outputs": [
    {
     "name": "stdout",
     "output_type": "stream",
     "text": [
      "Using cpu device\n"
     ]
    }
   ],
   "source": [
    "import numpy as np\n",
    "import matplotlib.pyplot as plt\n",
    "import matplotlib as mpl\n",
    "%matplotlib inline\n",
    "import scipy\n",
    "import os\n",
    "import copy\n",
    "from tqdm import tqdm\n",
    "from time import time\n",
    "\n",
    "import torch\n",
    "from torch import nn\n",
    "from torch.utils.data import DataLoader\n",
    "from torch.utils.data import Dataset\n",
    "from torchvision import datasets\n",
    "from torch import linalg\n",
    "from torchvision.transforms import ToTensor\n",
    "#from complexPyTorch.complexFunctions import complex_relu\n",
    "torch.set_default_dtype(torch.float64)\n",
    "\n",
    "plt.rcParams[\"font.family\"] = 'sans-serif'\n",
    "np.set_printoptions(formatter={'float_kind':'{:f}'.format}) \n",
    "\n",
    "# Get cpu or gpu device for training.\n",
    "device = \"cuda\" if torch.cuda.is_available() else \"cpu\"\n",
    "print(f\"Using {device} device\")"
   ]
  },
  {
   "cell_type": "markdown",
   "metadata": {},
   "source": [
    "## Set Initial Conditions, Model, Optimizer, Loss, and Training Function"
   ]
  },
  {
   "cell_type": "code",
   "execution_count": 33,
   "metadata": {},
   "outputs": [],
   "source": [
    "# Define oracles and useful definitions\n",
    "def oracle_norm(data): # L^2 Norm (includes imaginary) on X: sqrt(sum(|x_i|^2))\n",
    "    return torch.norm(torch.abs(data),dim=1)\n",
    "\n",
    "def oracle_complex_norm(data): # L^2 Norm (includes imaginary) on X: sqrt(sum(|x_i|^2))\n",
    "    return linalg.vector_norm(data,dim=1)\n",
    "    #return torch.sum((data*data.conj()).abs(),dim=1)\n",
    "\n",
    "def G2(data):\n",
    "    return (c_tensor*torch.einsum('ij,ik,il->ijkl',data[:n//3],data[n//3:2*n//3],data[2*n//3:])).sum(dim=[1,2,3])\n",
    "\n",
    "def bracket(M,N):\n",
    "    return M@N - N@M"
   ]
  },
  {
   "cell_type": "markdown",
   "metadata": {},
   "source": [
    "Define a custom complex activation function (as a Module subclass using nn.Module)"
   ]
  },
  {
   "cell_type": "code",
   "execution_count": 34,
   "metadata": {},
   "outputs": [],
   "source": [
    "# Define a custom complex activation function (nn.Module)\n",
    "class complex_activation(nn.Module):\n",
    "    def forward(self, x):\n",
    "        return nn.ReLU()(x.real) + 1.j * nn.ReLU()(x.imag)"
   ]
  },
  {
   "cell_type": "markdown",
   "metadata": {},
   "source": [
    "Define model"
   ]
  },
  {
   "cell_type": "code",
   "execution_count": 35,
   "metadata": {},
   "outputs": [],
   "source": [
    "# Define model\n",
    "class find_generators(nn.Module):\n",
    "    def __init__(self,n_dim,n_gen,n_com):\n",
    "        super(find_generators,self).__init__()\n",
    "       \n",
    "        G = [nn.Linear(in_features = n_dim, out_features = n_dim, bias = False, dtype=torch.cfloat)  for _ in range(n_gen)]\n",
    "        \n",
    "        self.gens = nn.ModuleList(G)\n",
    "        \n",
    "        C = [ nn.Sequential( nn.Linear(in_features = n_gen, out_features = n_gen, bias = True, dtype=torch.cfloat),\n",
    "                         complex_activation(),\n",
    "                         nn.Linear(in_features = n_gen, out_features = n_gen, bias = True, dtype=torch.cfloat),\n",
    "                         complex_activation(),\n",
    "                         nn.Linear(in_features = n_gen, out_features = n_gen, bias = True, dtype=torch.cfloat) ) for _ in range(n_com) ]\n",
    "\n",
    "\n",
    "        self.struct_const = nn.ModuleList(C)\n",
    "        \n",
    "        self.n_gen = n_gen\n",
    "        self.n_dim = n_dim\n",
    "        self.n_com = n_com\n",
    "\n",
    "    def forward(self, x, c, include_sc):\n",
    "        generators = [ gen[:,:] for gen in self.gens.parameters() ]\n",
    "        \n",
    "        structure_constants = torch.zeros((self.n_com,self.n_gen),dtype=torch.cfloat)\n",
    "        \n",
    "        if include_sc:\n",
    "            structure_constants = torch.empty((self.n_com,self.n_gen),dtype=torch.cfloat)\n",
    "            for i in range(self.n_com):\n",
    "                structure_constants[i,:] = ( self.struct_const[i](c[i].flatten()) ).reshape(1,self.n_gen)\n",
    "\n",
    "        return generators , structure_constants"
   ]
  },
  {
   "cell_type": "markdown",
   "metadata": {},
   "source": [
    "Define the loss function"
   ]
  },
  {
   "cell_type": "code",
   "execution_count": 36,
   "metadata": {},
   "outputs": [],
   "source": [
    "# define loss function\n",
    "def loss_fn(data,\n",
    "            generators,\n",
    "            struc_const,\n",
    "            eps,\n",
    "            ainv=1., anorm=1., aorth=1., aclos=1., asp = 1., include_sc=True ):\n",
    "\n",
    "    upper_elements = int(n_dim*(n_dim-1)/2)\n",
    "    lossi = 0.\n",
    "    lossn = 0.\n",
    "    losso = 0.\n",
    "    lossc = 0.\n",
    "    losssp = 0.\n",
    "    comm_index = 0\n",
    "    struc_const = struc_const.to(device)\n",
    "    indcs_upper = np.triu_indices(n_dim)\n",
    "    indices_upper_offset = np.triu_indices_from(generators[0], k=1)\n",
    "    indcs_lower = np.tril_indices(n_dim)\n",
    "    indices_lower_offset = np.tril_indices_from(generators[0], k=1)\n",
    "    identity = torch.eye(generators[0].shape[0],dtype=torch.cfloat).to(device)\n",
    "    \n",
    "    for i,G in enumerate(generators): \n",
    "        transform = torch.transpose((identity + 1.j*eps*G)@torch.transpose(data,dim0=1,dim1=0), dim0=1, dim1=0 )\n",
    "        lossi  += torch.mean( ( oracle(transform) - oracle(data) )**2)**2/ eps**2\n",
    "        #lossi  += torch.mean( ( G2(transform) - G2(data) ).abs()**2 ) / eps**2\n",
    "        lossn  += ((torch.view_as_real(G).flatten()**2).sum() - 2)**2 #torch.conj(G)\n",
    "        lossn  += (G-G.conj().T).abs().sum()**2\n",
    "\n",
    "        losssp += (torch.outer(G.real.flatten(),G.real.flatten())**2 - torch.eye(G.real.flatten().shape[0])*torch.outer(G.real.flatten(),G.real.flatten())**2).sum()**2\n",
    "        losssp += (torch.outer(G.imag.flatten(),G.imag.flatten())**2 - torch.eye(G.real.flatten().shape[0])*torch.outer(G.imag.flatten(),G.imag.flatten())**2).sum()**2\n",
    "        losssp += (torch.outer(G.real.flatten(),G.imag.flatten())**2).sum()**2\n",
    "        \n",
    "        losso += ((G@G).trace().abs()-2)**2\n",
    "        for j, H in enumerate(generators):\n",
    "            if i < j:\n",
    "                losso += (G@H).trace().abs()**2\n",
    "                losso += (G*H).sum().abs()**2\n",
    "                \n",
    "                if include_sc:\n",
    "                    C1 = torch.view_as_real(bracket(G,H))\n",
    "                    C2 = 0\n",
    "                    for k,K in enumerate(generators):\n",
    "                        C2 += 1j*struc_const[comm_index,k]*K\n",
    "                    C = C1-torch.view_as_real(C2)\n",
    "                    lossc += torch.sum(C**2)**2\n",
    "                    comm_index +=1\n",
    "    \n",
    "    components = [ ainv*lossi,  \n",
    "                anorm*lossn,  \n",
    "                aorth*losso,  \n",
    "                aclos*lossc,\n",
    "                asp*losssp ]\n",
    "\n",
    "    L = ainv*lossi + anorm*lossn + aorth*losso + aclos*lossc + asp*losssp\n",
    "    return  L.to(device), components"
   ]
  },
  {
   "cell_type": "markdown",
   "metadata": {},
   "source": [
    "Define the training function"
   ]
  },
  {
   "cell_type": "code",
   "execution_count": 37,
   "metadata": {},
   "outputs": [],
   "source": [
    "# Define the training function\n",
    "def train(initial_matrices, \n",
    "          initial_struc_const,  \n",
    "          data, \n",
    "          model, \n",
    "          loss_fn, \n",
    "          epochs, \n",
    "          optimizer, \n",
    "          eps,\n",
    "          include_sc):\n",
    "    \n",
    "    history = {'train_loss': [],\n",
    "               'components_loss':[]} \n",
    "    \n",
    "    best_val_loss = float('inf') #torch.inf #float('inf')\n",
    "    start = time()\n",
    "    \n",
    "    ainv  = 1.\n",
    "    anorm = 1.\n",
    "    aorth = 1.\n",
    "    aclos = 0.\n",
    "    if include_sc:\n",
    "        aclos = 1.\n",
    "    asp   = 1e-2\n",
    "\n",
    "    \n",
    "    X = initial_matrices.to(device)\n",
    "    Y = initial_struc_const.to(device)\n",
    "    size = X.shape[0]\n",
    "    \n",
    "    for i in range(epochs):\n",
    "        train_loss = 0.\n",
    "        model.train()\n",
    "        gens, struc_const = model(X,Y,include_sc)\n",
    "        \n",
    "        loss, comp_loss = loss_fn( data         = data,\n",
    "                        generators   = gens,\n",
    "                        struc_const  = struc_const,\n",
    "                        eps          = eps,\n",
    "                        ainv         = ainv,\n",
    "                        anorm        = anorm,\n",
    "                        aorth        = aorth,\n",
    "                        aclos        = aclos,\n",
    "                        asp          = asp )\n",
    "\n",
    "        # Backpropagation\n",
    "        optimizer.zero_grad()\n",
    "        loss.backward()\n",
    "        optimizer.step()\n",
    "        train_loss += loss.data.item()\n",
    "        comp_loss_for_epoch = []\n",
    "        \n",
    "        for j in range(len(comp_loss)):\n",
    "            if torch.is_tensor(comp_loss[j]):\n",
    "                comp_loss_for_epoch.append(comp_loss[j].data.item())\n",
    "            else:\n",
    "                comp_loss_for_epoch.append(comp_loss[j])\n",
    "            \n",
    "        history['train_loss'].append(train_loss)\n",
    "        history['components_loss'].append(comp_loss_for_epoch)\n",
    "        \n",
    "        if i%1==0:\n",
    "            print(f\"Epoch {i+1}   |  Train Loss: {train_loss}\")#,end='\\r') #{train_loss:>8f}\n",
    "        if i==epochs-1:\n",
    "            print(f\"Epoch {i+1}   |  Train Loss: {train_loss}\")\n",
    "    \n",
    "        if train_loss*1e25 < 1:\n",
    "            print()\n",
    "            print('Reached Near Machine Zero')\n",
    "            break\n",
    "        \n",
    "        if train_loss < best_val_loss:\n",
    "            best_val_loss = train_loss\n",
    "            best_model_wts = copy.deepcopy(model.state_dict())\n",
    "            best_model = copy.deepcopy(model)\n",
    "            torch.save(model.state_dict(),'best_complex_U6.pth')\n",
    "\n",
    "    model = best_model   \n",
    "    end = time()\n",
    "    total_time = end-start\n",
    "    print(f'Total Time: {total_time:>.8f}')\n",
    "    print(\"Complete.\")\n",
    "    return {'history': history}"
   ]
  },
  {
   "cell_type": "markdown",
   "metadata": {},
   "source": [
    "## Set Hyperparameters and Train the Model"
   ]
  },
  {
   "cell_type": "code",
   "execution_count": 38,
   "metadata": {},
   "outputs": [],
   "source": [
    "torch.manual_seed(0)\n",
    "n       = 300 # sample size\n",
    "n_dim   = 2   # dimension\n",
    "n_gen   = 3  # n_gen_full = int(n_dim*(n_dim-1)/2) formula for full algebra\n",
    "n_com = int(n_gen*(n_gen-1)/2) # N_g choose 2 of these\n",
    "include_sc = True\n",
    "\n",
    "data    = torch.randn(n,n_dim,dtype=torch.cfloat).to(device) #Can also use torch.complex128 # Ceate n number of n-dim vectors\n",
    "initialize_matrices = torch.stack([ torch.randn(n_dim,n_dim,dtype=torch.cfloat) for i in range(n_gen) ], dim=0).to(device)\n",
    "initialize_struc_const = torch.randn(n_com,n_gen,dtype=torch.cfloat).to(device)\n",
    "\n",
    "oracle = oracle_complex_norm\n",
    "eps   = 1e-2\n",
    "\n",
    "model = find_generators(n_dim,n_gen,n_com).to(device)\n",
    "\n",
    "if n_dim==2:\n",
    "    lr=5e-2\n",
    "elif n_dim==3:\n",
    "    lr = 1e-2  \n",
    "elif n_dim==4:\n",
    "    lr = 5e-3\n",
    "elif n_dim>=5:\n",
    "    lr = 1e-3\n",
    "    \n",
    "optimizer = torch.optim.Adam(model.parameters(), lr=lr)"
   ]
  },
  {
   "cell_type": "code",
   "execution_count": 39,
   "metadata": {},
   "outputs": [
    {
     "name": "stdout",
     "output_type": "stream",
     "text": [
      "Epoch 3000   |  Train Loss: 0.11719400622717586\n",
      "Total Time: 77.29082489\n",
      "Complete.\n"
     ]
    }
   ],
   "source": [
    "if n_dim==2:\n",
    "    epochs = 3000\n",
    "elif n_dim>=3:\n",
    "    epochs = 6000\n",
    "    \n",
    "training = train( initial_matrices    = initialize_matrices, \n",
    "                  initial_struc_const = initialize_struc_const,  \n",
    "                  data                = data,\n",
    "                  model               = model, \n",
    "                  loss_fn             = loss_fn,\n",
    "                  epochs              = epochs,\n",
    "                  optimizer           = optimizer,\n",
    "                  eps                 = eps,\n",
    "                  include_sc          = include_sc)"
   ]
  },
  {
   "cell_type": "code",
   "execution_count": 40,
   "metadata": {},
   "outputs": [],
   "source": [
    "#model.load_state_dict(torch.load('best_complex_U6.pth',map_location=torch.device('cpu')))"
   ]
  },
  {
   "cell_type": "markdown",
   "metadata": {},
   "source": [
    "## Visualize the History of Training Loss"
   ]
  },
  {
   "cell_type": "code",
   "execution_count": 41,
   "metadata": {},
   "outputs": [],
   "source": [
    "if n_gen>1:\n",
    "    train_loss = np.array(training['history']['train_loss'])\n",
    "    comp_loss = np.array(training['history']['components_loss'])\n",
    "else:\n",
    "    train_loss = np.array(training['history']['train_loss'])\n",
    "    comp_loss = np.empty( ( train_loss.shape[0],len(training['history']['components_loss']) ) )\n",
    "    for i,comp in enumerate(training['history']['components_loss']):\n",
    "        for j,term in enumerate(comp):\n",
    "            if torch.is_tensor(term) and term.requires_grad:\n",
    "                comp_loss[i,j] = term.detach().numpy()\n",
    "            else:\n",
    "                comp_loss[i,j] = term"
   ]
  },
  {
   "cell_type": "code",
   "execution_count": 42,
   "metadata": {},
   "outputs": [
    {
     "data": {
      "image/png": "[encoded data removed]",
      "text/plain": [
       "<Figure size 432x288 with 1 Axes>"
      ]
     },
     "metadata": {
      "needs_background": "light"
     },
     "output_type": "display_data"
    }
   ],
   "source": [
    "N=train_loss.shape[0]\n",
    "plt.figure(figsize=(6,4)) #, dpi=100)\n",
    "plt.plot( train_loss[:N], linewidth=1, linestyle='-',  color = 'r', label='Total')\n",
    "plt.plot(comp_loss[:N,0], linewidth=1, linestyle=':',  color='b',   label='Invariance')\n",
    "plt.plot(comp_loss[:N,1], linewidth=1, linestyle='--', color='g',   label='Normalization')\n",
    "plt.plot(comp_loss[:N,2], linewidth=1, linestyle='-.', color='magenta', label='Orthogonality')\n",
    "plt.plot(comp_loss[:N,3], linewidth=1, linestyle='-.', color='cyan', label='Closure')\n",
    "plt.plot(comp_loss[:N,4], linewidth=1, linestyle='--', color='black', label='Sparsity')\n",
    "plt.legend()\n",
    "\n",
    "plt.xlabel('Epoch')\n",
    "plt.ylabel('Loss')\n",
    "plt.yscale('log')\n",
    "plt.title('Components of Loss')\n",
    "\n",
    "plt.show()"
   ]
  },
  {
   "cell_type": "markdown",
   "metadata": {},
   "source": [
    "## Extract Results"
   ]
  },
  {
   "cell_type": "code",
   "execution_count": 43,
   "metadata": {},
   "outputs": [],
   "source": [
    "model.eval()\n",
    "\n",
    "with torch.no_grad():\n",
    "    gens_pred, struc_pred = model(initialize_matrices,initialize_struc_const,include_sc)\n",
    "\n",
    "#np.save('SU4_16_gen.npy',np.stack([ gens_pred[i].detach().numpy() for i in range(n_gen) ], axis =0))\n",
    "#np.save('SU4_16_struc.npy',struc_pred.detach().numpy())"
   ]
  },
  {
   "cell_type": "markdown",
   "metadata": {},
   "source": [
    "# Visualize Results"
   ]
  },
  {
   "cell_type": "markdown",
   "metadata": {},
   "source": [
    "## View the Resulting Generator(s)"
   ]
  },
  {
   "cell_type": "code",
   "execution_count": 44,
   "metadata": {},
   "outputs": [
    {
     "data": {
      "text/plain": [
       "[Text(1, -1.4142135623730951, '-$\\\\sqrt{2}$'),\n",
       " Text(1, 0.0, '0'),\n",
       " Text(1, 1.4142135623730951, '$\\\\sqrt{2}$')]"
      ]
     },
     "execution_count": 44,
     "metadata": {},
     "output_type": "execute_result"
    },
    {
     "data": {
      "image/png": "[encoded data removed]",
      "text/plain": [
       "<Figure size 360x396 with 7 Axes>"
      ]
     },
     "metadata": {
      "needs_background": "light"
     },
     "output_type": "display_data"
    }
   ],
   "source": [
    "rows=3 #6\n",
    "cols=2 #2*6\n",
    "figsize=(5,5.5) #(40,12)\n",
    "\n",
    "# Create labels for matrix rows and columns\n",
    "ticks_gen_im =[]\n",
    "ticks_gen_im_label = []\n",
    "for i in range(n_dim):\n",
    "    ticks_gen_im.append(i)\n",
    "    ticks_gen_im_label.append(str(i+1))\n",
    "\n",
    "fig,axes = plt.subplots(rows,cols,figsize=figsize)\n",
    "for i,GEN in enumerate(gens_pred):\n",
    "    plt.subplot(rows,cols,i*2+1)\n",
    "    #if n_gen<10:\n",
    "    #    print(f'Generator {i+1}: \\n {GEN} \\n')\n",
    "    im = plt.imshow(GEN.real.detach().numpy(), cmap='RdBu', vmin=-np.sqrt(2), vmax=np.sqrt(2)) # use ax_GEN[0] with axes\n",
    "    if i<9:\n",
    "        plt.ylabel(r'$\\mathbb{J}$'+f'$_{i+1}$',fontsize=20)\n",
    "    else:\n",
    "        number = str(i+1)\n",
    "        plt.ylabel(r'$\\mathbb{J}$'+f'$_{number[0]}$'+f'$_{number[1]}$',fontsize=20)\n",
    "    if i*2<cols:\n",
    "        plt.title('$\\mathfrak{R}$',fontsize=20)\n",
    "    if rows>1:\n",
    "        if i*2>=(rows-1)*cols:\n",
    "            plt.xticks(ticks=ticks_gen_im, labels=ticks_gen_im_label)\n",
    "        else:\n",
    "            plt.xticks([])\n",
    "    else:\n",
    "        plt.xticks(ticks=ticks_gen_im, labels=ticks_gen_im_label)\n",
    "            \n",
    "    if i%(cols/2)==0:\n",
    "        plt.yticks(ticks=ticks_gen_im, labels=ticks_gen_im_label)\n",
    "    else:\n",
    "        plt.yticks([])\n",
    "            \n",
    "            \n",
    "    plt.subplot(rows,cols,i*2+2)\n",
    "    im = plt.imshow(GEN.imag.detach().numpy(), cmap='RdBu', vmin=-np.sqrt(2), vmax=np.sqrt(2))\n",
    "    if i*2<cols:\n",
    "        plt.title('$\\mathfrak{I}$',fontsize=20)\n",
    "#         if n_gen<7:\n",
    "#             det = np.linalg.det(np.eye(GEN.shape[0]) + eps * GEN.detach().numpy()) #ax_GEN[1]\n",
    "#             plt.title(f'det = {det}')\n",
    "#         plt.axis('off')\n",
    "    if rows>1:\n",
    "        if i*2>=(rows-1)*cols:\n",
    "            plt.xticks(ticks=ticks_gen_im, labels=ticks_gen_im_label)\n",
    "        else:   #(rows*cols/2-rows-1):\n",
    "            plt.xticks([])\n",
    "    else:\n",
    "        plt.xticks(ticks=ticks_gen_im, labels=ticks_gen_im_label)\n",
    "    plt.yticks([])\n",
    "\n",
    "# if (len(gens_pred)%2==1 and n_dim%2==0) or (len(gens_pred)%2==0 and n_dim%2==1):\n",
    "#     plt.subplot(rows,cols,len(gens_pred)*2+1)\n",
    "#     plt.axis('off')\n",
    "#     plt.subplot(rows,cols,len(gens_pred)*2+2)\n",
    "#     plt.axis('off')\n",
    "            \n",
    "    plt.subplots_adjust(right=0.8)\n",
    "cbar = fig.colorbar(im,ax=axes.ravel().tolist(), ticks=[-np.sqrt(2), 0, np.sqrt(2)])\n",
    "cbar.ax.set_yticklabels(['-$\\sqrt{2}$', '0', '$\\sqrt{2}$']) \n",
    "#plt.savefig('U6_6_36_00.png',bbox_inches='tight')\n",
    "#plt.savefig('SU6_6_35_00.png',bbox_inches='tight')\n",
    "#plt.savefig('SU2_2_3_00.png',bbox_inches='tight')"
   ]
  },
  {
   "cell_type": "markdown",
   "metadata": {},
   "source": [
    "## View the Resulting Structure Constants (for $n_{gen}>1$)"
   ]
  },
  {
   "cell_type": "code",
   "execution_count": 45,
   "metadata": {},
   "outputs": [
    {
     "data": {
      "image/png": "[encoded data removed]",
      "text/plain": [
       "<Figure size 432x216 with 3 Axes>"
      ]
     },
     "metadata": {
      "needs_background": "light"
     },
     "output_type": "display_data"
    }
   ],
   "source": [
    "if include_sc and n_gen>1:\n",
    "    \n",
    "    figsize=(6,3)\n",
    "    \n",
    "    if n_gen==3:\n",
    "        X = torch.tensor(struc_pred.numpy())\n",
    "        struc_cyclic = X\n",
    "        struc_cyclic[1] = -X[1]\n",
    "        \n",
    "    commutator_labels = []\n",
    "    if n_com==3:\n",
    "        # Make the commutations cyclic for 3 generators\n",
    "        for i in range(n_gen):\n",
    "             for j in range(n_gen):\n",
    "                    if i<j:\n",
    "                        if (j-i)==2:\n",
    "                            commutator_labels.append(str(j+1)+str(i+1))\n",
    "                        else:\n",
    "                            commutator_labels.append(str(i+1)+str(j+1))\n",
    "    else:\n",
    "        for i in range(n_gen):\n",
    "            for j in range(n_gen):\n",
    "                if i<j:\n",
    "                    if n_gen>9:\n",
    "                        if i<9 and j<9:\n",
    "                            commutator_labels.append(str(0)+str(i+1)+str(0)+str(j+1))\n",
    "                        elif i<9 and j>=9:\n",
    "                            commutator_labels.append(str(0)+str(i+1)+str(j+1))\n",
    "                        else:\n",
    "                            commutator_labels.append(str(i+1)+str(j+1))\n",
    "                    else:\n",
    "                        commutator_labels.append(str(i+1)+str(j+1))\n",
    "        \n",
    "    ticks_com = []\n",
    "    for i in range(n_com):\n",
    "        ticks_com.append(i)\n",
    "\n",
    "    ticks_gen = []\n",
    "    generator_labels = []\n",
    "    for i in range(n_gen):\n",
    "        ticks_gen.append(i)\n",
    "        generator_labels.append(str(i+1))\n",
    "    \n",
    "    fig,axes = plt.subplots(1,2,figsize=figsize)\n",
    "    if n_com==3:\n",
    "        plt.subplot(1,2,1)\n",
    "        plt.imshow(struc_cyclic.real.detach().numpy(), cmap='RdBu', vmin=-2.,vmax=2.)#norm=mpl.colors.CenteredNorm())\n",
    "        plt.xticks(ticks=ticks_gen,labels=generator_labels)\n",
    "        plt.xlabel('$\\mathbb{J}_\\gamma$',fontsize=20)\n",
    "        plt.yticks(ticks=ticks_com,labels=commutator_labels)\n",
    "        plt.ylabel(r'$ [\\mathbb{J}_\\alpha$,$\\mathbb{J}_\\beta ] $',fontsize=20)\n",
    "        plt.title(r'$\\mathfrak{R}(a_{[\\alpha\\beta]\\gamma})$',fontsize=20)\n",
    "        \n",
    "        plt.subplot(1,2,2)\n",
    "        im = plt.imshow(struc_cyclic.imag.detach().numpy(), cmap='RdBu', vmin=-2.,vmax=2.)\n",
    "        plt.xticks(ticks=ticks_gen,labels=generator_labels)\n",
    "        plt.xlabel('$\\mathbb{J}_\\gamma$',fontsize=20)\n",
    "        plt.yticks([])\n",
    "        plt.title(r'$\\mathfrak{I}(a_{[\\alpha\\beta]\\gamma})$',fontsize=20)\n",
    "        \n",
    "    else:\n",
    "        plt.subplot(1,2,1)\n",
    "        plt.imshow(struc_pred.real.detach().numpy(), cmap='RdBu', vmin=-2.,vmax=2.)#norm=mpl.colors.CenteredNorm())\n",
    "        plt.xticks(ticks=ticks_gen,labels=generator_labels)\n",
    "        plt.xlabel('$\\mathbb{J}_\\gamma$',fontsize=20)\n",
    "        plt.yticks(ticks=ticks_com,labels=commutator_labels)\n",
    "        plt.ylabel(r'$ [\\mathbb{J}_\\alpha$,$\\mathbb{J}_\\beta ] $',fontsize=20)\n",
    "        plt.title(r'$\\mathfrak{R}(a_{[\\alpha\\beta]\\gamma})$',fontsize=20)\n",
    "        \n",
    "        plt.subplot(1,2,2)\n",
    "        im = plt.imshow(struc_pred.imag.detach().numpy(), cmap='RdBu', vmin=-2.,vmax=2.)\n",
    "        plt.xticks(ticks=ticks_gen,labels=generator_labels)\n",
    "        plt.xlabel('$\\mathbb{J}_\\gamma$',fontsize=20)\n",
    "        plt.yticks([])\n",
    "        plt.title(r'$\\mathfrak{I}(a_{[\\alpha\\beta]\\gamma})$',fontsize=20)\n",
    "        \n",
    "    plt.colorbar(im, ax=axes.ravel().tolist())\n",
    "    \n",
    "    # add grid lines\n",
    "    # for i in range(n_gen-1):\n",
    "    #     plt.axvline(x=1/2+i, linewidth=1, color ='black')\n",
    "    # for i in range(n_com-1):\n",
    "    #     plt.axhline(y=1/2+i-0.01, linewidth=1, color ='black')\n"
   ]
  },
  {
   "cell_type": "markdown",
   "metadata": {},
   "source": [
    "# Verify Results"
   ]
  },
  {
   "cell_type": "markdown",
   "metadata": {},
   "source": [
    "## Verify the Structure Constants Produce an Algebra (for $n_{gen}>1$)"
   ]
  },
  {
   "cell_type": "code",
   "execution_count": 46,
   "metadata": {},
   "outputs": [
    {
     "name": "stdout",
     "output_type": "stream",
     "text": [
      "12: \n",
      " Structure Constants = [-2.3841858e-07+1.4901161e-08j  3.4434348e-04+0.0000000e+00j\n",
      "  1.9866810e+00+0.0000000e+00j]\n",
      " \n",
      " C = \n",
      "  [[ 0.07345673-2.0638455e-04j  1.9782473 +1.9757763e+00j]\n",
      " [-1.978247  -1.9757766e+00j  0.06610309+2.0638421e-04j]] \n",
      "\n",
      "The structure constants were NOT found successfully with a mean absolute error (MAE) of 1.4328488111495972. \n",
      " \n",
      "\n",
      "31: \n",
      " Structure Constants = [1.1175871e-08-3.0850060e-09j 1.9863355e+00-1.8626451e-09j\n",
      " 3.4433976e-04+7.4505806e-09j]\n",
      " \n",
      " C = \n",
      "  [[ 1.8762097 -1.9792831e+00j -0.00334049+1.3647068e-04j]\n",
      " [ 0.00334045-1.3646237e-04j -2.0725896 +1.9792831e+00j]] \n",
      "\n",
      "The structure constants were NOT found successfully with a mean absolute error (MAE) of 1.3999429941177368. \n",
      " \n",
      "\n",
      "23: \n",
      " Structure Constants = [ 1.9868777e+00-9.3057752e-06j  2.2824109e-04-5.6698918e-06j\n",
      " -3.0045470e-03-1.5065074e-05j]\n",
      " \n",
      " C = \n",
      "  [[ 1.0498632e-04-5.9795643e-06j -1.9771340e+00+1.9740914e+00j]\n",
      " [-1.9771638e+00+1.9800674e+00j -3.3865863e-04+5.3694380e-06j]] \n",
      "\n",
      "The structure constants were NOT found successfully with a mean absolute error (MAE) of 1.3981420993804932. \n",
      " \n",
      "\n",
      "Total MAE = 4.230934143066406\n"
     ]
    }
   ],
   "source": [
    "if include_sc and n_gen>1:\n",
    "    if n_gen==3:\n",
    "        X = torch.tensor(struc_pred.numpy())\n",
    "        struc_cyclic = X\n",
    "        struc_cyclic[1] = -X[1]\n",
    "\n",
    "    comm_index = 0\n",
    "    Cs = []\n",
    "    for i,G in enumerate(gens_pred):\n",
    "        for j,H in enumerate(gens_pred):\n",
    "            if i<j and n_gen!=3:\n",
    "                C1 = bracket(G,H)\n",
    "                C2 = 0\n",
    "                for k,K in enumerate(gens_pred):\n",
    "                    C2 += struc_pred[comm_index,k]*K\n",
    "                C = C1 - C2\n",
    "                error = torch.mean(torch.abs(C))\n",
    "                print(str(i+1)+str(j+1)+': \\n Structure Constants = '+str(struc_pred[comm_index,:].detach().numpy())+'\\n \\n C = \\n ',C.detach().numpy(),'\\n')\n",
    "                if error<1e-1:\n",
    "                    print(f'The structure constants were found successfully with a mean absolute error (MAE) of {error}. \\n \\n')\n",
    "                elif error>1e-1:\n",
    "                    print(f'The structure constants were NOT found successfully with a mean absolute error (MAE) of {error}. \\n \\n')\n",
    "                Cs.append(C)\n",
    "                comm_index+=1\n",
    "            # Make the cyclic commutators if n_gen = 3   \n",
    "            elif i<j and n_gen==3:\n",
    "                if (j-i)==2:\n",
    "                    C1 = bracket(H,G)\n",
    "                    C2 = 0\n",
    "                    for k,K in enumerate(gens_pred):\n",
    "                        C2 += struc_cyclic[comm_index,k]*K\n",
    "                    C = C1 - C2\n",
    "                    error = torch.mean(torch.abs(C))\n",
    "                    print(str(j+1)+str(i+1)+': \\n Structure Constants = '+str(struc_cyclic[comm_index,:].detach().numpy())+'\\n \\n C = \\n ',C.detach().numpy(),'\\n')\n",
    "                    if error<1e-1:\n",
    "                        print(f'The structure constants were found successfully with a mean absolute error (MAE) of {error}. \\n \\n')\n",
    "                    elif error>1e-1:\n",
    "                        print(f'The structure constants were NOT found successfully with a mean absolute error (MAE) of {error}. \\n \\n') \n",
    "                    Cs.append(C)\n",
    "                    comm_index+=1\n",
    "                else:\n",
    "                    C1 = bracket(G,H)\n",
    "                    C2 = 0\n",
    "                    for k,K in enumerate(gens_pred):\n",
    "                        C2 += struc_cyclic[comm_index,k]*K\n",
    "                    C = C1 - C2\n",
    "                    error = torch.mean(torch.abs(C))\n",
    "                    print(str(i+1)+str(j+1)+': \\n Structure Constants = '+str(struc_cyclic[comm_index,:].detach().numpy())+'\\n \\n C = \\n ',C.detach().numpy(),'\\n')\n",
    "                    if error<1e-1:\n",
    "                        print(f'The structure constants were found successfully with a mean absolute error (MAE) of {error}. \\n \\n')\n",
    "                    elif error>1e-1:\n",
    "                        print(f'The structure constants were NOT found successfully with a mean absolute error (MAE) of {error}. \\n \\n') \n",
    "                    Cs.append(C)\n",
    "                    comm_index+=1\n",
    "    \n",
    "    \n",
    "    # Calculate the total MSE in finding the structure constants\n",
    "    tot_error = 0.\n",
    "    for i,C in enumerate(Cs):\n",
    "        tot_error+=torch.mean(torch.abs(C))\n",
    "    print(f'Total MAE = {tot_error}')\n",
    "    # if error < 1e-1:\n",
    "    #     print(f'The structure constants were found successfully with a mean absolute error (MAE) of {error}.')\n",
    "    # else:\n",
    "    #     print(f'The structure constants were NOT found successfully with a mean absolute error (MAE) of {error}.')"
   ]
  },
  {
   "cell_type": "markdown",
   "metadata": {},
   "source": [
    "## Verify Orthogonality (for $n_{gen}>1$)"
   ]
  },
  {
   "cell_type": "code",
   "execution_count": 47,
   "metadata": {},
   "outputs": [],
   "source": [
    "def get_angle(v, w):\n",
    "    # Angle between vectors\n",
    "    return torch.arccos( (v @ w.conj()).real / ( torch.norm(v.abs()) * torch.norm(w.abs()) ) )\n",
    "\n",
    "def get_axis(M):\n",
    "    # Finds the eigenvector with min(Imaginary(eigenvalue))\n",
    "    # if the matrix is a rotation matrix or a generator of rotation,s then this vector is the axis of rotation  \n",
    "    eig_vals, eig_vecs = torch.linalg.eig(M)\n",
    "    # find the minimum arg of the minimum imaginary component\n",
    "    # pass that to the transposed eigenvector array to pull the eigenvector\n",
    "    axis = eig_vecs.T[torch.argmin(torch.abs(eig_vals.imag))]\n",
    "    # Change to more positive than negative values in axis vector by multiplying by the net sign\n",
    "    return torch.sign(torch.sum(axis).real)*axis"
   ]
  },
  {
   "cell_type": "code",
   "execution_count": 48,
   "metadata": {},
   "outputs": [
    {
     "name": "stdout",
     "output_type": "stream",
     "text": [
      "Angle between generator 1 and 2: 0.7853981256 rad, 44.9999978371 deg\n",
      "Angle between generator 1 and 3: 1.0467104912 rad, 59.9720935167 deg\n",
      "Angle between generator 2 and 3: 1.5707963705 rad, 90.0000025045 deg\n"
     ]
    }
   ],
   "source": [
    "for i,G in enumerate(gens_pred):\n",
    "    for j,H in enumerate(gens_pred):\n",
    "        if i<j:\n",
    "            angle = get_angle(get_axis(G), get_axis(H))\n",
    "            angle_deg = 180/np.pi*float(angle)\n",
    "            print(f'Angle between generator {i+1} and {j+1}: {angle:>.10f} rad, {angle_deg:>.10f} deg')"
   ]
  },
  {
   "cell_type": "code",
   "execution_count": null,
   "metadata": {},
   "outputs": [],
   "source": []
  }
 ],
 "metadata": {
  "kernelspec": {
   "display_name": "Python 3",
   "language": "python",
   "name": "python3"
  },
  "language_info": {
   "codemirror_mode": {
    "name": "ipython",
    "version": 3
   },
   "file_extension": ".py",
   "mimetype": "text/x-python",
   "name": "python",
   "nbconvert_exporter": "python",
   "pygments_lexer": "ipython3",
   "version": "3.8.5"
  }
 },
 "nbformat": 4,
 "nbformat_minor": 4
}
